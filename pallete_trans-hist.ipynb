{
 "cells": [
  {
   "cell_type": "code",
   "execution_count": 42,
   "metadata": {},
   "outputs": [],
   "source": [
    "import os\n",
    "import cv2 as cv\n",
    "import numpy as np\n",
    "from matplotlib import pyplot as plt\n",
    "from PIL import Image, ImageOps\n",
    "\n",
    "import torch\n",
    "\n",
    "import utils\n",
    "from utils import ext_transforms as et"
   ]
  },
  {
   "cell_type": "code",
   "execution_count": 64,
   "metadata": {},
   "outputs": [
    {
     "data": {
      "image/png": "[encoded data removed]",
      "text/plain": [
       "<Figure size 432x288 with 4 Axes>"
      ]
     },
     "metadata": {
      "needs_background": "light"
     },
     "output_type": "display_data"
    }
   ],
   "source": [
    "img = Image.open('/data1/sdi/datasets/CPN_all/Images/FH_I0000916_2.bmp').convert('RGB')\n",
    "\n",
    "ext_trans = [ et.ExtToTensor(), \n",
    "                et.ExtNormalize(mean=[0.485, 0.456, 0.406], std=[0.229, 0.224, 0.225]),\n",
    "                et.GaussianPerturb(mean=0, std=0.1) ]\n",
    "\n",
    "def genImage(im):\n",
    "    denorm = utils.Denormalize(mean=[0.485, 0.456, 0.406], std=[0.229, 0.224, 0.225])\n",
    "    return (denorm(im.numpy()) * 255).transpose(1, 2, 0).astype(np.uint8)\n",
    "\n",
    "pic, _ = ext_trans[0](img, img)\n",
    "pic, _ = ext_trans[1](pic, _)\n",
    "gp = np.random.normal(0, 0.1, np.shape(pic.numpy()))\n",
    "tmp = pic + torch.from_numpy(gp)\n",
    "\n",
    "fig, axs = plt.subplots(2, 2)\n",
    "\n",
    "axs[0, 0].hist(gp.flatten(), bins=255, density=True, align='mid', histtype='step')\n",
    "axs[0, 0].set_title('Gaussian perturb')\n",
    "axs[0, 1].hist(np.array(pic, dtype=np.float32).flatten(), bins=255, density=True, align='mid')\n",
    "axs[0, 1].set_title('Image histogram')\n",
    "axs[1, 0].hist(np.array(tmp, dtype=np.float32).flatten(), bins=255, density=True, align='mid')\n",
    "axs[1, 0].set_title('Image + GP')\n",
    "axs[1, 1].hist(genImage(tmp).flatten(), bins=[i for i in range(255)], density=True, align='mid')\n",
    "axs[1, 1].set_title('Aug Image')\n",
    "plt.show()"
   ]
  },
  {
   "cell_type": "code",
   "execution_count": 35,
   "metadata": {},
   "outputs": [
    {
     "data": {
      "text/plain": [
       "(656154,)"
      ]
     },
     "execution_count": 35,
     "metadata": {},
     "output_type": "execute_result"
    }
   ],
   "source": [
    "np.array(pic, dtype=np.float32).flatten().shape"
   ]
  }
 ],
 "metadata": {
  "interpreter": {
   "hash": "d4b5c8650f0f10b1c7c51c1776334ef788d7d32be5ff36caeb1b5253eea00ee0"
  },
  "kernelspec": {
   "display_name": "Python 3.6.13 ('sdi_MUnet')",
   "language": "python",
   "name": "python3"
  },
  "language_info": {
   "codemirror_mode": {
    "name": "ipython",
    "version": 3
   },
   "file_extension": ".py",
   "mimetype": "text/x-python",
   "name": "python",
   "nbconvert_exporter": "python",
   "pygments_lexer": "ipython3",
   "version": "3.6.13"
  },
  "orig_nbformat": 4
 },
 "nbformat": 4,
 "nbformat_minor": 2
}
